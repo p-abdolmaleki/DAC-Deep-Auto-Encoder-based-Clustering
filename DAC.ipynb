{
 "cells": [
  {
   "cell_type": "markdown",
   "id": "84ba3671-28ac-4d45-a8b0-64c85da868d8",
   "metadata": {},
   "source": [
    "## Import Libraries"
   ]
  },
  {
   "cell_type": "code",
   "execution_count": 1,
   "id": "4e35f820-9878-47f7-b01f-fd369ac0d923",
   "metadata": {},
   "outputs": [],
   "source": [
    "import numpy as np\n",
    "import tensorflow as tf\n",
    "from keras import layers\n",
    "from keras import models\n",
    "from keras import optimizers\n",
    "import matplotlib.pyplot as plt\n",
    "from sklearn.cluster import KMeans\n",
    "from keras.utils import plot_model\n",
    "from keras.datasets.mnist import load_data"
   ]
  },
  {
   "cell_type": "markdown",
   "id": "f88fb4db-2ef5-4c22-a8c2-666a1aaa2317",
   "metadata": {},
   "source": [
    "## Load MNIST dataset"
   ]
  },
  {
   "cell_type": "code",
   "execution_count": 2,
   "id": "918d6aad-2bdd-4ddc-b0c4-feaeeb9d9bce",
   "metadata": {},
   "outputs": [],
   "source": [
    "(x_train, y_train), (x_test, y_test) = load_data()\n",
    "x_train, x_test = x_train / 255.0, x_test / 255.0"
   ]
  },
  {
   "cell_type": "code",
   "execution_count": 3,
   "id": "067699c3-2940-4b8a-afea-b4888a628e71",
   "metadata": {},
   "outputs": [],
   "source": [
    "train_dataset = tf.data.Dataset.from_tensor_slices((x_train, y_train))\n",
    "train_dataset = train_dataset.shuffle(buffer_size=1024).batch(64)"
   ]
  },
  {
   "cell_type": "markdown",
   "id": "79816b72-253f-4478-879f-2cd542be7f87",
   "metadata": {},
   "source": [
    "## Here <code>wi</code> is the weight of each feature"
   ]
  },
  {
   "cell_type": "code",
   "execution_count": 4,
   "id": "5311e6a3-5833-4abf-9290-1efc29e52344",
   "metadata": {},
   "outputs": [],
   "source": [
    "samples = x_train[:1000]\n",
    "labels = y_train[:1000]\n",
    "equal = np.zeros((28, 28))\n",
    "equal_count = 0\n",
    "not_equal = np.zeros((28, 28))\n",
    "not_equal_count = 0\n",
    "for p, sample_p in enumerate(samples):\n",
    "    for q, sample_q in enumerate(samples):\n",
    "        if labels[p]==labels[q] and p < q:\n",
    "            equal += np.exp(-1 * np.square(sample_p - sample_q))\n",
    "            equal_count += 1\n",
    "        elif labels[p]!=labels[q] and p < q:\n",
    "            not_equal += 1 - np.exp(-1 * np.square(sample_p - sample_q))\n",
    "            not_equal_count +=1\n",
    "wi = (equal / equal_count) * (not_equal / not_equal_count)"
   ]
  },
  {
   "cell_type": "code",
   "execution_count": 5,
   "id": "d39e43ea-580d-4b15-a4c4-1f962662cad5",
   "metadata": {},
   "outputs": [
    {
     "data": {
      "text/plain": [
       "<matplotlib.image.AxesImage at 0x1f2598cb9d0>"
      ]
     },
     "execution_count": 5,
     "metadata": {},
     "output_type": "execute_result"
    },
    {
     "data": {
      "image/png": "[encoded data removed]",
      "text/plain": [
       "<Figure size 640x480 with 1 Axes>"
      ]
     },
     "metadata": {},
     "output_type": "display_data"
    }
   ],
   "source": [
    "plt.imshow(wi, cmap='gray')"
   ]
  },
  {
   "cell_type": "markdown",
   "id": "c7cc9bcc-6d64-4849-8b51-0696d1a4da03",
   "metadata": {},
   "source": [
    "## Define Model"
   ]
  },
  {
   "cell_type": "code",
   "execution_count": 6,
   "id": "d845d10d-2e21-4949-b4e5-e9add4d909fe",
   "metadata": {},
   "outputs": [],
   "source": [
    "class DAC(models.Model):\n",
    "    def __init__(self):\n",
    "        super(DAC, self).__init__()\n",
    "        self.encoder = tf.keras.Sequential([\n",
    "            layers.Input(shape=(784,)),\n",
    "            layers.Dense(512),\n",
    "            layers.Activation('relu'),\n",
    "            layers.Activation('tanh'),\n",
    "            layers.Dense(128),\n",
    "            layers.Activation('relu'),\n",
    "            layers.Activation('tanh'),\n",
    "            layers.Dense(32),\n",
    "            layers.Activation('tanh'),\n",
    "            layers.Dense(10)\n",
    "        ])\n",
    "        self.decoder = tf.keras.Sequential([\n",
    "            layers.Dense(32, input_shape=(10,)),\n",
    "            layers.Activation('tanh'),\n",
    "            layers.Dense(128),\n",
    "            layers.Activation('tanh'),\n",
    "            layers.Dense(512),\n",
    "            layers.Activation('tanh'),\n",
    "            layers.Dense(784),\n",
    "            layers.Activation('sigmoid'), \n",
    "        ])\n",
    "\n",
    "    def call(self, x):\n",
    "        latent_space = self.encoder(x)\n",
    "        reconstructed = self.decoder(latent_space)\n",
    "        return latent_space, reconstructed"
   ]
  },
  {
   "cell_type": "markdown",
   "id": "97f86720-85c0-42fe-b2f0-acc916f39939",
   "metadata": {},
   "source": [
    "## Define loos function and train the model"
   ]
  },
  {
   "cell_type": "code",
   "execution_count": 7,
   "id": "0f6afa19-9035-4f65-9b48-ca611d9c7bac",
   "metadata": {},
   "outputs": [
    {
     "name": "stderr",
     "output_type": "stream",
     "text": [
      "J:\\Users\\parsa\\anaconda3\\lib\\site-packages\\keras\\src\\layers\\core\\dense.py:86: UserWarning: Do not pass an `input_shape`/`input_dim` argument to a layer. When using Sequential models, prefer using an `Input(shape)` object as the first layer in the model instead.\n",
      "  super().__init__(activity_regularizer=activity_regularizer, **kwargs)\n"
     ]
    },
    {
     "name": "stdout",
     "output_type": "stream",
     "text": [
      "Epoch [1/10], Step [100/938], Loss: 0.0103\n",
      "Epoch [1/10], Step [200/938], Loss: 0.0074\n",
      "Epoch [1/10], Step [300/938], Loss: 0.0063\n",
      "Epoch [1/10], Step [400/938], Loss: 0.0056\n",
      "Epoch [1/10], Step [500/938], Loss: 0.0051\n",
      "Epoch [1/10], Step [600/938], Loss: 0.0047\n",
      "Epoch [1/10], Step [700/938], Loss: 0.0044\n",
      "Epoch [1/10], Step [800/938], Loss: 0.0043\n",
      "Epoch [1/10], Step [900/938], Loss: 0.0040\n",
      "Epoch [2/10], Step [100/938], Loss: 0.0037\n",
      "Epoch [2/10], Step [200/938], Loss: 0.0037\n",
      "Epoch [2/10], Step [300/938], Loss: 0.0037\n",
      "Epoch [2/10], Step [400/938], Loss: 0.0035\n",
      "Epoch [2/10], Step [500/938], Loss: 0.0035\n",
      "Epoch [2/10], Step [600/938], Loss: 0.0034\n",
      "Epoch [2/10], Step [700/938], Loss: 0.0033\n",
      "Epoch [2/10], Step [800/938], Loss: 0.0034\n",
      "Epoch [2/10], Step [900/938], Loss: 0.0032\n",
      "Epoch [3/10], Step [100/938], Loss: 0.0031\n",
      "Epoch [3/10], Step [200/938], Loss: 0.0031\n",
      "Epoch [3/10], Step [300/938], Loss: 0.0032\n",
      "Epoch [3/10], Step [400/938], Loss: 0.0030\n",
      "Epoch [3/10], Step [500/938], Loss: 0.0030\n",
      "Epoch [3/10], Step [600/938], Loss: 0.0030\n",
      "Epoch [3/10], Step [700/938], Loss: 0.0030\n",
      "Epoch [3/10], Step [800/938], Loss: 0.0031\n",
      "Epoch [3/10], Step [900/938], Loss: 0.0029\n",
      "Epoch [4/10], Step [100/938], Loss: 0.0028\n",
      "Epoch [4/10], Step [200/938], Loss: 0.0028\n",
      "Epoch [4/10], Step [300/938], Loss: 0.0029\n",
      "Epoch [4/10], Step [400/938], Loss: 0.0028\n",
      "Epoch [4/10], Step [500/938], Loss: 0.0028\n",
      "Epoch [4/10], Step [600/938], Loss: 0.0028\n",
      "Epoch [4/10], Step [700/938], Loss: 0.0028\n",
      "Epoch [4/10], Step [800/938], Loss: 0.0029\n",
      "Epoch [4/10], Step [900/938], Loss: 0.0027\n",
      "Epoch [5/10], Step [100/938], Loss: 0.0026\n",
      "Epoch [5/10], Step [200/938], Loss: 0.0027\n",
      "Epoch [5/10], Step [300/938], Loss: 0.0027\n",
      "Epoch [5/10], Step [400/938], Loss: 0.0026\n",
      "Epoch [5/10], Step [500/938], Loss: 0.0027\n",
      "Epoch [5/10], Step [600/938], Loss: 0.0027\n",
      "Epoch [5/10], Step [700/938], Loss: 0.0026\n",
      "Epoch [5/10], Step [800/938], Loss: 0.0027\n",
      "Epoch [5/10], Step [900/938], Loss: 0.0026\n",
      "Epoch [6/10], Step [100/938], Loss: 0.0025\n",
      "Epoch [6/10], Step [200/938], Loss: 0.0026\n",
      "Epoch [6/10], Step [300/938], Loss: 0.0026\n",
      "Epoch [6/10], Step [400/938], Loss: 0.0026\n",
      "Epoch [6/10], Step [500/938], Loss: 0.0026\n",
      "Epoch [6/10], Step [600/938], Loss: 0.0025\n",
      "Epoch [6/10], Step [700/938], Loss: 0.0025\n",
      "Epoch [6/10], Step [800/938], Loss: 0.0026\n",
      "Epoch [6/10], Step [900/938], Loss: 0.0025\n",
      "Epoch [7/10], Step [100/938], Loss: 0.0024\n",
      "Epoch [7/10], Step [200/938], Loss: 0.0025\n",
      "Epoch [7/10], Step [300/938], Loss: 0.0025\n",
      "Epoch [7/10], Step [400/938], Loss: 0.0024\n",
      "Epoch [7/10], Step [500/938], Loss: 0.0025\n",
      "Epoch [7/10], Step [600/938], Loss: 0.0025\n",
      "Epoch [7/10], Step [700/938], Loss: 0.0025\n",
      "Epoch [7/10], Step [800/938], Loss: 0.0026\n",
      "Epoch [7/10], Step [900/938], Loss: 0.0024\n",
      "Epoch [8/10], Step [100/938], Loss: 0.0024\n",
      "Epoch [8/10], Step [200/938], Loss: 0.0024\n",
      "Epoch [8/10], Step [300/938], Loss: 0.0025\n",
      "Epoch [8/10], Step [400/938], Loss: 0.0024\n",
      "Epoch [8/10], Step [500/938], Loss: 0.0024\n",
      "Epoch [8/10], Step [600/938], Loss: 0.0024\n",
      "Epoch [8/10], Step [700/938], Loss: 0.0024\n",
      "Epoch [8/10], Step [800/938], Loss: 0.0025\n",
      "Epoch [8/10], Step [900/938], Loss: 0.0024\n",
      "Epoch [9/10], Step [100/938], Loss: 0.0023\n",
      "Epoch [9/10], Step [200/938], Loss: 0.0024\n",
      "Epoch [9/10], Step [300/938], Loss: 0.0024\n",
      "Epoch [9/10], Step [400/938], Loss: 0.0023\n",
      "Epoch [9/10], Step [500/938], Loss: 0.0024\n",
      "Epoch [9/10], Step [600/938], Loss: 0.0024\n",
      "Epoch [9/10], Step [700/938], Loss: 0.0024\n",
      "Epoch [9/10], Step [800/938], Loss: 0.0024\n",
      "Epoch [9/10], Step [900/938], Loss: 0.0023\n",
      "Epoch [10/10], Step [100/938], Loss: 0.0023\n",
      "Epoch [10/10], Step [200/938], Loss: 0.0023\n",
      "Epoch [10/10], Step [300/938], Loss: 0.0023\n",
      "Epoch [10/10], Step [400/938], Loss: 0.0023\n",
      "Epoch [10/10], Step [500/938], Loss: 0.0023\n",
      "Epoch [10/10], Step [600/938], Loss: 0.0023\n",
      "Epoch [10/10], Step [700/938], Loss: 0.0023\n",
      "Epoch [10/10], Step [800/938], Loss: 0.0024\n",
      "Epoch [10/10], Step [900/938], Loss: 0.0023\n"
     ]
    }
   ],
   "source": [
    "model = DAC()\n",
    "optimizer = optimizers.Adam(learning_rate=1e-3)\n",
    "\n",
    "def cmse_loss(outputs, inputs, weights):\n",
    "    expanded_weights = tf.broadcast_to(tf.reshape(weights, [-1, 784]), [tf.shape(outputs)[0], 784])\n",
    "    return tf.reduce_mean(tf.multiply(tf.square(tf.cast(outputs, tf.float32) - tf.cast(inputs, tf.float32)), tf.cast(expanded_weights, tf.float32)))\n",
    "\n",
    "def train_step(model, inputs, weights, optimizer):\n",
    "    with tf.GradientTape() as tape:\n",
    "        _, outputs = model(inputs)\n",
    "        loss = cmse_loss(outputs, inputs, weights) + tf.reduce_mean(tf.square(tf.cast(outputs, tf.float32) - tf.cast(inputs, tf.float32))) * 0.00001\n",
    "    gradients = tape.gradient(loss, model.trainable_variables)\n",
    "    optimizer.apply_gradients(zip(gradients, model.trainable_variables))\n",
    "    return loss\n",
    "\n",
    "num_epochs = 10\n",
    "for epoch in range(num_epochs):\n",
    "    running_loss = 0.0\n",
    "    for i, (inputs, _) in enumerate(train_dataset):\n",
    "        inputs = tf.reshape(inputs, [-1, 784])\n",
    "        loss = train_step(model, inputs, wi, optimizer)\n",
    "        running_loss += loss\n",
    "\n",
    "        if i % 100 == 99:\n",
    "            print(f'Epoch [{epoch + 1}/{num_epochs}], Step [{i + 1}/{len(train_dataset)}], Loss: {running_loss / 100:.4f}')\n",
    "            running_loss = 0.0"
   ]
  },
  {
   "cell_type": "markdown",
   "id": "d164aa9d-44e7-42d7-a64b-2bed19311df2",
   "metadata": {},
   "source": [
    "## checking the prediction of model"
   ]
  },
  {
   "cell_type": "code",
   "execution_count": 32,
   "id": "a90b6c29-7970-4a3c-8dfb-0b4c2084a115",
   "metadata": {},
   "outputs": [
    {
     "data": {
      "image/png": "[encoded data removed]",
      "text/plain": [
       "<Figure size 2000x2000 with 2 Axes>"
      ]
     },
     "metadata": {},
     "output_type": "display_data"
    }
   ],
   "source": [
    "plt.figure(figsize=(20, 20))\n",
    "plt.subplot(5, 2, 1)\n",
    "plt.imshow(x_train[8898])\n",
    "plt.subplot(5, 2, 2)\n",
    "plt.imshow(y_train_pred.reshape(-1, 28, 28)[8898])\n",
    "plt.show()"
   ]
  },
  {
   "cell_type": "markdown",
   "id": "aa5010b5-460b-4e6f-833f-473418a34a23",
   "metadata": {},
   "source": [
    "## Calculating the dependence of the clustering basis on the labels of the photos"
   ]
  },
  {
   "cell_type": "markdown",
   "id": "3c061e7b-a294-4f13-b3c0-6f59c90aa8d1",
   "metadata": {},
   "source": [
    "### Default photos"
   ]
  },
  {
   "cell_type": "code",
   "execution_count": 8,
   "id": "e8a6ac15-15ff-4e54-9004-bcf68e402c3a",
   "metadata": {},
   "outputs": [],
   "source": [
    "kmeans = KMeans(n_clusters=10)\n",
    "clusters_defualt = kmeans.fit_predict(x_train.reshape(-1, 784))"
   ]
  },
  {
   "cell_type": "code",
   "execution_count": 9,
   "id": "392f18c8-419c-47a5-b3b6-d3643b8480e6",
   "metadata": {},
   "outputs": [
    {
     "name": "stdout",
     "output_type": "stream",
     "text": [
      "The average dependence of the clustering basis on the labels of the images using the default images is 0.562930760708569%.\n"
     ]
    }
   ],
   "source": [
    "cluster_percent_defualt = list()\n",
    "for i in range(10):\n",
    "    cluster_percent_defualt.append(sorted(list(zip(*np.unique(y_train[clusters_defualt==i], return_counts=True))), key=lambda x:x[1], reverse=True)[0][1] / len(y_train[clusters_defualt==i]))\n",
    "print('The average dependence of the clustering basis on the labels of the images using the default images is {}%.'.format(np.mean(cluster_percent_defualt)))"
   ]
  },
  {
   "cell_type": "markdown",
   "id": "bb5c0786-c5cc-4f54-9610-b1bf5ea7a99f",
   "metadata": {},
   "source": [
    "### Latent space"
   ]
  },
  {
   "cell_type": "code",
   "execution_count": 10,
   "id": "1ade505a-5b6c-4f5e-b1f2-16d9adb3a29a",
   "metadata": {},
   "outputs": [
    {
     "name": "stdout",
     "output_type": "stream",
     "text": [
      "\u001b[1m1875/1875\u001b[0m \u001b[32m━━━━━━━━━━━━━━━━━━━━\u001b[0m\u001b[37m\u001b[0m \u001b[1m16s\u001b[0m 8ms/step\n"
     ]
    }
   ],
   "source": [
    "latent_space, y_train_pred = model.predict(x_train.reshape(-1, 784))"
   ]
  },
  {
   "cell_type": "code",
   "execution_count": 11,
   "id": "34e561d7-ff6a-4d5d-b04d-cc02a1130a22",
   "metadata": {},
   "outputs": [],
   "source": [
    "kmeans = KMeans(n_clusters=10)\n",
    "clusters_DAC = kmeans.fit_predict(latent_space)"
   ]
  },
  {
   "cell_type": "code",
   "execution_count": 12,
   "id": "fcc8f2ed-c5f9-48f9-99fb-33b37eaee803",
   "metadata": {},
   "outputs": [
    {
     "name": "stdout",
     "output_type": "stream",
     "text": [
      "The average dependence of the clustering basis on the labels of the images using the latent space is 0.6929592149100096%.\n"
     ]
    }
   ],
   "source": [
    "cluster_percent_DAC = list()\n",
    "for i in range(10):\n",
    "    cluster_percent_DAC.append(sorted(list(zip(*np.unique(y_train[clusters_DAC==i], return_counts=True))), key=lambda x:x[1], reverse=True)[0][1] / len(y_train[clusters_DAC==i]))\n",
    "print('The average dependence of the clustering basis on the labels of the images using the latent space is {}%.'.format(np.mean(cluster_percent_DAC)))"
   ]
  }
 ],
 "metadata": {
  "kernelspec": {
   "display_name": "Python 3 (ipykernel)",
   "language": "python",
   "name": "python3"
  },
  "language_info": {
   "codemirror_mode": {
    "name": "ipython",
    "version": 3
   },
   "file_extension": ".py",
   "mimetype": "text/x-python",
   "name": "python",
   "nbconvert_exporter": "python",
   "pygments_lexer": "ipython3",
   "version": "3.9.18"
  }
 },
 "nbformat": 4,
 "nbformat_minor": 5
}
